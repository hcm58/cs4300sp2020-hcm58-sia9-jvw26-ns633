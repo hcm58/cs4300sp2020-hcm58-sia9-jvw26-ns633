{
 "cells": [
  {
   "cell_type": "code",
   "execution_count": 35,
   "metadata": {},
   "outputs": [],
   "source": [
    "import csv\n",
    "\n",
    "statelist = [\"Alabama\", \"Alaska\", \"Arizona\", \"Arkansas\", \"California\", \"Colorado\",\"Connecticut\", \"Delaware\", \"Florida\",\n",
    "             \"Georgia\", \"Hawaii\", \"Idaho\", \"Illinois\", \"Indiana\", \"Iowa\",\"Kansas\", \"Kentucky\", \"Louisiana\", \"Maine\",\n",
    "             \"Maryland\", \"Massachusetts\", \"Michigan\", \"Minnesota\", \"Mississippi\", \"Missouri\", \"Montana\", \"Nebraska\",\n",
    "             \"Nevada\", \"New Hampshire\",\"New Jersey\", \"New Mexico\", \"New York\", \"North Carolina\",\"North Dakota\", \"Ohio\",\n",
    "             \"Oklahoma\", \"Oregon\", \"Pennsylvania\", \"Rhode Island\", \"South Carolina\", \"South Dakota\", \"Tennessee\", \"Texas\",\n",
    "             \"Utah\", \"Vermont\", \"Virgina\", \"Washington\", \"West Virginia\",\"Wisconsin\", \"Wyoming\"]\n",
    "\n",
    "def getstaticdata(state):\n",
    "    with open(\"data_code/dates4states.csv\", encoding='utf-8') as statedates:\n",
    "        data = [row for row in csv.reader(statedates)]\n",
    "        stateindex = statelist.index(state) + 1\n",
    "        listoftuple = []\n",
    "        stateofemergency = data[stateindex][1]\n",
    "        elementary = data[stateindex][2]\n",
    "        nursinghomes = data[stateindex][4]\n",
    "        shelterinplace = data[stateindex][5]\n",
    "        nonessential = data[stateindex][7]\n",
    "        listoftuple.append((\"Declared State of Emergency\", stateofemergency))\n",
    "        listoftuple.append((\"K-12 Schools Closed\", elementary))\n",
    "        listoftuple.append((\"Visitors Banned From Nursing Homes\", nursinghomes))\n",
    "        listoftuple.append((\"Shelter-In-Place Declared\", shelterinplace))\n",
    "        listoftuple.append((\"Nonessential Businesses Closed\", nonessential))\n",
    "        return listoftuple\n"
   ]
  },
  {
   "cell_type": "code",
   "execution_count": 36,
   "metadata": {},
   "outputs": [
    {
     "name": "stdout",
     "output_type": "stream",
     "text": [
      "[('Declared State of Emergency', '3/11/2020'), ('K-12 Schools Closed', '3/16/2020'), ('Visitors Banned From Nursing Homes', '0'), ('Shelter-In-Place Declared', '3/28/2020'), ('Nonessential Businesses Closed', '3/28/2020')]\n"
     ]
    }
   ],
   "source": [
    "getstaticdata(\"Alaska\")"
   ]
  },
  {
   "cell_type": "code",
   "execution_count": null,
   "metadata": {},
   "outputs": [],
   "source": []
  }
 ],
 "metadata": {
  "kernelspec": {
   "display_name": "Python 3",
   "language": "python",
   "name": "python3"
  },
  "language_info": {
   "codemirror_mode": {
    "name": "ipython",
    "version": 3
   },
   "file_extension": ".py",
   "mimetype": "text/x-python",
   "name": "python",
   "nbconvert_exporter": "python",
   "pygments_lexer": "ipython3",
   "version": "3.7.6"
  }
 },
 "nbformat": 4,
 "nbformat_minor": 2
}
