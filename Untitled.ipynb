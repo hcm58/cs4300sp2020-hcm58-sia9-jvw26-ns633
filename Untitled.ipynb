{
 "cells": [
  {
   "cell_type": "code",
   "execution_count": 1,
   "metadata": {},
   "outputs": [],
   "source": [
    "import re\n",
    "import csv"
   ]
  },
  {
   "cell_type": "code",
   "execution_count": 43,
   "metadata": {},
   "outputs": [],
   "source": [
    "def makedict():   \n",
    "    with open(\"data_code/stategovhandleparty.csv\", encoding='utf-8') as stategovhandleparty:\n",
    "        reader = csv.DictReader(open(\"data_code/stategovhandleparty.csv\", encoding='utf-8'))\n",
    "        listofstates = [\"Alabama\", \"Alaska\", \"Arizona\", \"Arkansas\", \"California\", \"Colorado\",\"Connecticut\", \"Deleware\", \"Florida\",\n",
    "                        \"Georgia\", \"Hawaii\", \"Idaho\", \"Illinios\", \"Indiana\", \"Iowa\",\"Kansas\", \"Kentucky\", \"Louisiana\", \"Maine\", \n",
    "                        \"Maryland\", \"Massachusetts\", \"MI - Michigan\", \"Minnesota\", \"Mississippi\", \"Missouri\", \"Montana\", \"Nebraska\",\n",
    "                        \"Nevada\", \"New Hampshire\",\"New Jersey\", \"New Mexico\", \"New York\", \"North Carolina\",\"North Dakota\", \"Ohio\", \n",
    "                        \"Oklahoma\", \"Oregon\", \"Pennsylvania\", \"Rhode Island\", \"South Carolina\", \"South Dakota\", \"Tennessee\", \"Texas\",\n",
    "                        \"Utah\", \"Vermont\", \"Virgina\", \"Washington\", \"West Virginia\",\"Wisconsin\", \"Wyoming\"]\n",
    "        listofpeople = [\"Kay Ivey\", \"Mike Dunleavy\", \"Doug Ducey\", \"Asa Hutchinson\", \"Gavin Newsom\", \"Jared Polis\", \"Ned Lamont\",\n",
    "                        \"John Carney\", \"Ron DeSantis\", \"Brian Kemp\", \"David Ige\", \"Brad Little\", \"J.B. Pritzker\", \"Eric Holcomb\", \n",
    "                        \"Kim Reynolds\", \"Laura Kelly\", \"Andy Beshear\", \"John Bel Edwards\", \"Janet Mills\", \"Larry Hogan\", \n",
    "                        \"Charlie Baker\", \"Gretchen Whitmer\", \"Tim Walz\", \"Tate Reeves\", \"Mike Parson\", \"Steve Bullock\",\n",
    "                        \"Pete Ricketts\", \"Steve Sisolak\", \"Chris Sununu\", \"Phil Murphy\", \"Michelle Lujan Grisham\", \"Andrew Cuomo\",\n",
    "                        \"Roy Cooper\", \"Doug Burgum\", \"Mike DeWine\", \"Kevin Stitt\", \"Kate Brown\", \"Tom Wolf\", \"Gina Raimondo\", \n",
    "                        \"Henry McMaster\", \"Kristi Noem\", \"Bill Lee\", \"Greg Abbott\", \"Gary Herbert\", \"Phil Scott\", \"Ralph Northam\",\n",
    "                        \"Jay Inslee\", \"Jim Justice\", \"Tony Evers\", \"Mark Gordon\"]\n",
    "\n",
    "\n",
    "        bigdict = {}\n",
    "        for row in reader:\n",
    "            subdict = {}\n",
    "            subdict[\"name\"] = row[\"Name\"]\n",
    "            subdict[\"handle\"] = row[\"Twitter\"]\n",
    "            subdict[\"party\"] = row[\"Affiliation\"]\n",
    "            bigdict[row[\"State\"]] = subdict\n",
    "    return(bigdict)       \n"
   ]
  },
  {
   "cell_type": "code",
   "execution_count": 58,
   "metadata": {},
   "outputs": [],
   "source": [
    "def getState(query):\n",
    "    if query in listofstates:\n",
    "        state = query\n",
    "        return state\n",
    "    elif query in listofpeople:\n",
    "        personindex = listofpeople.index(query)\n",
    "        state = listofstates[personindex]\n",
    "        return state\n",
    "    else:\n",
    "        print(\"Query not found\")"
   ]
  },
  {
   "cell_type": "code",
   "execution_count": 60,
   "metadata": {},
   "outputs": [],
   "source": [
    "def getGov(state):\n",
    "    govname = bigdict[state][\"name\"]\n",
    "    return govname"
   ]
  },
  {
   "cell_type": "code",
   "execution_count": 61,
   "metadata": {},
   "outputs": [],
   "source": [
    "def getParty(state):\n",
    "    party = bigdict[state][\"party\"]\n",
    "    return party    "
   ]
  },
  {
   "cell_type": "code",
   "execution_count": 62,
   "metadata": {},
   "outputs": [],
   "source": [
    "def getHandle(state):\n",
    "    handle = bigdict[state][\"handle\"]\n",
    "    return handle"
   ]
  }
 ],
 "metadata": {
  "kernelspec": {
   "display_name": "Python 3",
   "language": "python",
   "name": "python3"
  },
  "language_info": {
   "codemirror_mode": {
    "name": "ipython",
    "version": 3
   },
   "file_extension": ".py",
   "mimetype": "text/x-python",
   "name": "python",
   "nbconvert_exporter": "python",
   "pygments_lexer": "ipython3",
   "version": "3.7.6"
  }
 },
 "nbformat": 4,
 "nbformat_minor": 2
}
